{
 "cells": [
  {
   "cell_type": "markdown",
   "metadata": {},
   "source": [
    "# The Battle of Neighbourhoods: Opening a Middle Eastern Restaurant in Toronto, CA."
   ]
  },
  {
   "cell_type": "markdown",
   "metadata": {},
   "source": [
    "### Introduction:"
   ]
  },
  {
   "cell_type": "markdown",
   "metadata": {},
   "source": [
    "##### 1.1: Description and Discussion of Background:"
   ]
  },
  {
   "cell_type": "markdown",
   "metadata": {},
   "source": [
    "The objective of this project is to determine which neighbourhood in Toronto would be a good option for opening a Middle Eastern restaurant. Toronto is the most densely populated city in Canada and is well known for its diversity. Being a multicultural city provides countless opportunities for business owners to open such a business. A Middle Eastern restaurant would bring about Palestinians, Jordanians, Lebanese, Syrians as well as many others who enjoy the unique flavors of Middle Eastern food such as hummus, falafel, tabbouleh, manakeesh, shish tawooq, kofta, etc.\n",
    "\n",
    "Opening a restaurant in the city of Toronto requires finding a neighbourhood that is densely populated and is positioned around numerous venues. These factors would help attract as many people as possible, for grabbing a bite or sitting down for lunch or dinner. \n",
    "\n",
    "Any entrepreneur, who wants to open a Middle Eastern Restaurant in Toronto, would be interested in this study."
   ]
  },
  {
   "cell_type": "markdown",
   "metadata": {},
   "source": [
    "##### 1.2: Data Overview:"
   ]
  },
  {
   "cell_type": "markdown",
   "metadata": {},
   "source": [
    "The data utilized in this study include:\n",
    "\n",
    "- A list of Toronto’s boroughs, neighbourhoods, and postal codes on Wikipedia under: https://en.wikipedia.org/wiki/List_of_postal_codes_of_Canada:_M. \n",
    "\n",
    "- A list of geographical location data, including postal codes as well as latitude and longitude coordinates,  found under: https://cocl.us/Geospatial_data. \n",
    "\n",
    "- A list of venue data, including the most common venues of a given neighbourhood in Toronto, via Foursquare API. The limit was set to 500 and radius to 1000m, so Foursquare will return a maximum od 500 venues around 1000m of every neighbourhood in the data set. These venues include restaurants, gyms, parks, etc.\n"
   ]
  },
  {
   "cell_type": "code",
   "execution_count": null,
   "metadata": {},
   "outputs": [],
   "source": []
  }
 ],
 "metadata": {
  "kernelspec": {
   "display_name": "Python",
   "language": "python",
   "name": "conda-env-python-py"
  },
  "language_info": {
   "codemirror_mode": {
    "name": "ipython",
    "version": 3
   },
   "file_extension": ".py",
   "mimetype": "text/x-python",
   "name": "python",
   "nbconvert_exporter": "python",
   "pygments_lexer": "ipython3",
   "version": "3.6.11"
  }
 },
 "nbformat": 4,
 "nbformat_minor": 4
}
