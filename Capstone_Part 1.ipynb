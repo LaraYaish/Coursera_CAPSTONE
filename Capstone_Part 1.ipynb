{
 "cells": [
  {
   "cell_type": "markdown",
   "metadata": {},
   "source": [
    "# The Battle of Neighbourhoods: Opening a Middle Eastern Restaurant in Toronto, CA."
   ]
  },
  {
   "cell_type": "markdown",
   "metadata": {},
   "source": [
    "### Introduction:"
   ]
  },
  {
   "cell_type": "markdown",
   "metadata": {},
   "source": [
    "##### 1.1: Description and Discussion of Background:"
   ]
  },
  {
   "cell_type": "markdown",
   "metadata": {},
   "source": [
    "The objective of this project is to determine which neighbourhood in Toronto would be a good option for opening a Middle Eastern restaurant. Toronto is the most densely populated city in Canada and is well known for its diversity. Being a multicultural city provides countless opportunities for business owners to open such a business. A Middle Eastern restaurant would bring about Palestinians, Jordanians, Lebanese, Syrians as well as many others who enjoy the unique flavors of Middle Eastern food such as hummus, falafel, tabbouleh, manakeesh, shish tawooq, kofta, etc.\n",
    "\n",
    "Opening a restaurant in the city of Toronto requires finding a neighbourhood that is densely populated and is positioned around numerous venues. These factors would help attract as many people as possible, for grabbing a bite or sitting down for lunch or dinner. \n",
    "\n",
    "Any entrepreneur who is looking for an optimal location in Toronto to open a Middle Eastern Restaurant would be interested in this study."
   ]
  },
  {
   "cell_type": "markdown",
   "metadata": {},
   "source": [
    "##### 1.2: Data Overview:"
   ]
  },
  {
   "cell_type": "markdown",
   "metadata": {},
   "source": [
    "The data utilized in this study include:\n",
    "\n",
    "- A list of Toronto’s boroughs, neighbourhoods, and postal codes on Wikipedia under: https://en.wikipedia.org/wiki/List_of_postal_codes_of_Canada:_M. This list provides the name of the boroughs and neighbourhoods for each postal code in Toronto Canada. This will be useful to know the name of the neighborhouds that would be optimal for opening the Middle Eastern restaurant. \n",
    "\n",
    "- A list of geographical location data, including postal codes as well as latitude and longitude coordinates,  found under: https://cocl.us/Geospatial_data. This list provides the latitude and longitude values for every postal code in Toronto. When merged with the first list, the latitude and longitude values for each neighbourhood will be extracted. This would help when using Foursquare API to find the different venues located around the given neighbourhoods. \n",
    "\n",
    "- A list of venue data, including the most common venues of a given neighbourhood in Toronto, via Foursquare API. This list provides the most common venues around given neighbourhoods. The venues include restaurants, gyms, parks, coffeeshops, etc. The limit in this study was chosen to be 500 venues and the radius was set to 1000m. So, Foursquare will return a maximum od 500 venues around 1000m of every neighbourhood in the data set.\n",
    "\n"
   ]
  },
  {
   "cell_type": "code",
   "execution_count": null,
   "metadata": {},
   "outputs": [],
   "source": []
  }
 ],
 "metadata": {
  "kernelspec": {
   "display_name": "Python",
   "language": "python",
   "name": "conda-env-python-py"
  },
  "language_info": {
   "codemirror_mode": {
    "name": "ipython",
    "version": 3
   },
   "file_extension": ".py",
   "mimetype": "text/x-python",
   "name": "python",
   "nbconvert_exporter": "python",
   "pygments_lexer": "ipython3",
   "version": "3.6.11"
  }
 },
 "nbformat": 4,
 "nbformat_minor": 4
}
